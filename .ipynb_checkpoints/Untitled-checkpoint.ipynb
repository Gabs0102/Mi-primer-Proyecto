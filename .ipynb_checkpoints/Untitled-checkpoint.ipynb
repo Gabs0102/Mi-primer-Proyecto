{
 "cells": [
  {
   "cell_type": "markdown",
   "metadata": {},
   "source": [
    "### PRESENTACIÓN"
   ]
  },
  {
   "cell_type": "markdown",
   "metadata": {},
   "source": [
    "**nombre:** Gabriela Ivonne Montoya Ortiz \n",
    "- **Profesión**: <font color = pink> **Estudiante** </font>\n",
    "- **Edad**: 19 años \n",
    "- **Pasa tiempos**: bailar diferentes estilos, leer, ver peliculas. \n",
    "- **Educación**: colegio salesiano anahuac revolucion "
   ]
  },
  {
   "cell_type": "markdown",
   "metadata": {},
   "source": [
    "Foto:\n",
    "    <img src=\"https://mujerpandora.com/media/thumbs/uploads/articles/images/eres-bailarina-3-tips-para-red-jpg_800x0-jpg_626x0.jpg\" width=\"150px\" height=\"50px\" />"
   ]
  },
  {
   "cell_type": "code",
   "execution_count": null,
   "metadata": {},
   "outputs": [],
   "source": []
  }
 ],
 "metadata": {
  "kernelspec": {
   "display_name": "Python 3",
   "language": "python",
   "name": "python3"
  },
  "language_info": {
   "codemirror_mode": {
    "name": "ipython",
    "version": 3
   },
   "file_extension": ".py",
   "mimetype": "text/x-python",
   "name": "python",
   "nbconvert_exporter": "python",
   "pygments_lexer": "ipython3",
   "version": "3.6.5"
  }
 },
 "nbformat": 4,
 "nbformat_minor": 2
}
